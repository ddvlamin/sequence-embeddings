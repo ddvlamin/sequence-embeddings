{
 "cells": [
  {
   "cell_type": "code",
   "execution_count": 1,
   "id": "dc7a95e3",
   "metadata": {},
   "outputs": [],
   "source": [
    "import itertools\n",
    "import numpy as np\n",
    "import torch\n",
    "from torch import nn\n",
    "from torch.nn.parameter import Parameter\n",
    "from torch.utils.data import DataLoader, Dataset"
   ]
  },
  {
   "cell_type": "code",
   "execution_count": 75,
   "id": "f57bd5db",
   "metadata": {},
   "outputs": [
    {
     "ename": "AttributeError",
     "evalue": "'Tensor' object has no attribute 'value'",
     "output_type": "error",
     "traceback": [
      "\u001b[0;31m---------------------------------------------------------------------------\u001b[0m",
      "\u001b[0;31mAttributeError\u001b[0m                            Traceback (most recent call last)",
      "\u001b[0;32m/var/folders/0z/4cw4vb4x2fq7ks55f299ml8c0000gn/T/ipykernel_33141/4124912574.py\u001b[0m in \u001b[0;36m<module>\u001b[0;34m\u001b[0m\n\u001b[1;32m      9\u001b[0m \u001b[0mr2\u001b[0m \u001b[0;34m=\u001b[0m \u001b[0mt2\u001b[0m\u001b[0;34m[\u001b[0m\u001b[0;34m:\u001b[0m\u001b[0;36m3\u001b[0m\u001b[0;34m,\u001b[0m\u001b[0;34m:\u001b[0m\u001b[0;34m]\u001b[0m\u001b[0;34m.\u001b[0m\u001b[0mrepeat\u001b[0m\u001b[0;34m(\u001b[0m\u001b[0;36m2\u001b[0m\u001b[0;34m,\u001b[0m\u001b[0;36m1\u001b[0m\u001b[0;34m)\u001b[0m\u001b[0;34m\u001b[0m\u001b[0;34m\u001b[0m\u001b[0m\n\u001b[1;32m     10\u001b[0m \u001b[0ma\u001b[0m \u001b[0;34m=\u001b[0m \u001b[0;34m-\u001b[0m\u001b[0;34m(\u001b[0m\u001b[0mr1\u001b[0m\u001b[0;34m-\u001b[0m\u001b[0mr2\u001b[0m\u001b[0;34m)\u001b[0m\u001b[0;34m.\u001b[0m\u001b[0mabs\u001b[0m\u001b[0;34m(\u001b[0m\u001b[0;34m)\u001b[0m\u001b[0;34m.\u001b[0m\u001b[0msum\u001b[0m\u001b[0;34m(\u001b[0m\u001b[0;34m)\u001b[0m\u001b[0;34m/\u001b[0m\u001b[0;34m(\u001b[0m\u001b[0;36m2\u001b[0m\u001b[0;34m*\u001b[0m\u001b[0;36m3\u001b[0m\u001b[0;34m)\u001b[0m\u001b[0;34m\u001b[0m\u001b[0;34m\u001b[0m\u001b[0m\n\u001b[0;32m---> 11\u001b[0;31m \u001b[0ma\u001b[0m\u001b[0;34m.\u001b[0m\u001b[0mdata\u001b[0m\u001b[0;34m.\u001b[0m\u001b[0mvalue\u001b[0m\u001b[0;34m\u001b[0m\u001b[0;34m\u001b[0m\u001b[0m\n\u001b[0m",
      "\u001b[0;31mAttributeError\u001b[0m: 'Tensor' object has no attribute 'value'"
     ]
    }
   ],
   "source": [
    "t1 = torch.tensor([[1, 2],\n",
    "                   [3, 4],\n",
    "                  [0, 0]])\n",
    "t2 = torch.tensor([[1, 2],\n",
    "                   [3, 4],\n",
    "                  [5, 6]])\n",
    "\n",
    "r1 = t1[:2,:].repeat(3,1)\n",
    "r2 = t2[:3,:].repeat(2,1)\n",
    "a = -(r1-r2).abs().sum()/(2*3)\n",
    "a"
   ]
  },
  {
   "cell_type": "code",
   "execution_count": 53,
   "id": "edba376e",
   "metadata": {},
   "outputs": [
    {
     "name": "stdout",
     "output_type": "stream",
     "text": [
      "torch.Size([1, 2, 2])\n",
      "torch.Size([2, 2])\n"
     ]
    }
   ],
   "source": [
    "t = torch.tensor([[[1, 2],\n",
    "                   [3, 4]]])\n",
    "print(t.shape)\n",
    "print(torch.flatten(t, start_dim=0, end_dim=1).shape)"
   ]
  },
  {
   "cell_type": "code",
   "execution_count": 2,
   "id": "171f95e1",
   "metadata": {},
   "outputs": [
    {
     "data": {
      "text/plain": [
       "tensor([[ 1,  2],\n",
       "        [ 5,  6],\n",
       "        [ 9, 10],\n",
       "        [30, 40],\n",
       "        [70, 80]])"
      ]
     },
     "execution_count": 2,
     "metadata": {},
     "output_type": "execute_result"
    }
   ],
   "source": [
    "t = torch.tensor([[1, 2], [30, 40],[5,6],[70,80],[9,10]])\n",
    "t.gather(0, torch.tensor([[0, 0],[2,2],[4,4],[1,1],[3,3]]))"
   ]
  },
  {
   "cell_type": "code",
   "execution_count": 3,
   "id": "49d0bff7",
   "metadata": {},
   "outputs": [
    {
     "data": {
      "text/plain": [
       "PackedSequence(data=tensor([1, 4, 6, 2, 5, 3]), batch_sizes=tensor([3, 2, 1]), sorted_indices=tensor([1, 2, 0]), unsorted_indices=tensor([2, 0, 1]))"
      ]
     },
     "execution_count": 3,
     "metadata": {},
     "output_type": "execute_result"
    }
   ],
   "source": [
    "from torch.nn.utils.rnn import pack_sequence\n",
    "a = torch.tensor([1,2,3])\n",
    "b = torch.tensor([4,5])\n",
    "c = torch.tensor([6])\n",
    "pack_sequence([c, a, b], enforce_sorted=False)"
   ]
  },
  {
   "cell_type": "code",
   "execution_count": 4,
   "id": "43bbf9a0",
   "metadata": {},
   "outputs": [
    {
     "name": "stdout",
     "output_type": "stream",
     "text": [
      "<AddBackward0 object at 0x10dbaeca0>\n"
     ]
    }
   ],
   "source": [
    "x = torch.ones(5)  # input tensor\n",
    "y = torch.zeros(3)  # expected output\n",
    "w = torch.randn(5, 3, requires_grad=True)\n",
    "b = torch.randn(3, requires_grad=True)\n",
    "z = torch.matmul(x, w)+b\n",
    "print(z.grad_fn)"
   ]
  },
  {
   "cell_type": "code",
   "execution_count": 5,
   "id": "44c9128f",
   "metadata": {},
   "outputs": [],
   "source": [
    "amino_acids = \"arndcqeghilkmfpstwyv\"\n",
    "counter = itertools.count()\n",
    "aa2index = {a: next(counter) for a in amino_acids}\n",
    "dummy2index = {\"a\": 0, \"b\": 1}\n",
    "\n",
    "def sequence_one_hot_encoder(indexer, sequence):\n",
    "    dim = len(indexer)\n",
    "    one_hot_encoded = np.zeros((len(sequence), dim+1))\n",
    "    for i, aa in enumerate(sequence):\n",
    "        index = indexer.get(aa, dim)\n",
    "        one_hot_encoded[i, index] = 1.0\n",
    "    return torch.tensor(one_hot_encoded, dtype=torch.float)\n",
    "\n",
    "def pack_batch(batch):\n",
    "    lengths = [x.size(0) for x in batch]   # get the length of each sequence in the batch\\\n",
    "    #print(f\"sum of lengths {sum(lengths)}\")\n",
    "    #print(f\"max of lengths {max(lengths)}\")\n",
    "    padded = nn.utils.rnn.pad_sequence(batch, batch_first=True)  # padd all sequences\n",
    "    #b, s, n = padded.shape\n",
    "    #print(f\"padded shape {padded.shape}\")\n",
    "        \n",
    "    # pack padded sequece\n",
    "    packed = nn.utils.rnn.pack_padded_sequence(padded, lengths=lengths, batch_first=True, enforce_sorted=False)\n",
    "    #packed = nn.utils.rnn.pack_sequence(batch, enforce_sorted=False)\n",
    "        \n",
    "    return packed, lengths\n",
    "\n",
    "def batchify(batch):\n",
    "    transposed_data = list(zip(*batch))\n",
    "    batch1, batch2, labels = transposed_data\n",
    "    \n",
    "    return pack_batch(batch1), pack_batch(batch2), torch.tensor(labels)\n",
    "\n",
    "class SequenceDataset(Dataset):\n",
    "    def __init__(self, fpath, encoder):\n",
    "        self.encoder = encoder\n",
    "        with open(fpath, \"r\") as fin:\n",
    "            self.lines = fin.readlines()\n",
    "\n",
    "    def __len__(self):\n",
    "        return len(self.lines)\n",
    "\n",
    "    def __getitem__(self, idx):\n",
    "        line = self.lines[idx]\n",
    "        sline = line.strip().split(\"\\t\")\n",
    "        return self.encoder(sline[0]), self.encoder(sline[1]), int(sline[4])\n",
    "    \n",
    "class DummyDataset(Dataset):\n",
    "    def __init__(self, encoder):\n",
    "        self.encoder = encoder\n",
    "        self.lines = [\n",
    "            (\"ba\", \"bba\",\"a.1.1.1\",\"a.2.1.1\",2),\n",
    "            (\"aba\",\"aab\",\"a.1.1.1\",\"a.1.1.1\",4),\n",
    "        ]\n",
    "\n",
    "    def __len__(self):\n",
    "        return len(self.lines)\n",
    "\n",
    "    def __getitem__(self, idx):\n",
    "        sline = self.lines[idx]\n",
    "        return self.encoder(sline[0]), self.encoder(sline[1]), int(sline[4])"
   ]
  },
  {
   "cell_type": "code",
   "execution_count": 6,
   "id": "25d7ed9d",
   "metadata": {},
   "outputs": [],
   "source": [
    "dummy_data = DummyDataset(lambda x: sequence_one_hot_encoder(dummy2index, x))\n",
    "#dummy_dataloader = DataLoader(dummy_data, batch_size=None, batch_sampler=None)\n",
    "dummy_dataloader = DataLoader(dummy_data, batch_size=2, collate_fn=batchify)"
   ]
  },
  {
   "cell_type": "code",
   "execution_count": 83,
   "id": "82d15fe1",
   "metadata": {},
   "outputs": [],
   "source": [
    "class SequenceEmbedder(nn.Module):\n",
    "    def __init__(self, input_dim, hidden_lstm_units=512, n_lstm_layers=1, output_dim=100, bidirectional=True):\n",
    "        super(SequenceEmbedder, self).__init__()\n",
    "        \n",
    "        self.input_dim = input_dim\n",
    "        self.hidden_lstm_units = hidden_lstm_units\n",
    "        self.n_lstm_layers = n_lstm_layers\n",
    "        self.bidirectional = bidirectional\n",
    "        self.output_dim = output_dim\n",
    "        \n",
    "        self.rnn = nn.RNN(\n",
    "            input_size=hidden_lstm_units,\n",
    "            hidden_size=hidden_lstm_units,\n",
    "            num_layers=n_lstm_layers,\n",
    "            batch_first=True,\n",
    "            bidirectional=bidirectional,\n",
    "            bias=False,\n",
    "            nonlinearity=\"relu\"\n",
    "        ) \n",
    "        self.fix_rnn_input_parameters()\n",
    "        \n",
    "        self.input_stack = nn.Sequential(\n",
    "            nn.Linear(input_dim, hidden_lstm_units, dtype=torch.float),\n",
    "            nn.ReLU()\n",
    "        )\n",
    "        \n",
    "        self.output_stack = nn.Sequential(\n",
    "            nn.Linear(hidden_lstm_units, output_dim, dtype=torch.float),\n",
    "            nn.ReLU()\n",
    "        )\n",
    "        \n",
    "    def _initialize_parameters(self):\n",
    "        \"\"\"\n",
    "        Just to initialize a simple RNN with fixed values for debugging and understanding PyTorch forward flow\n",
    "        Important note: will not work with LSTM or GRU, will not work with bias in RNN (or bidirectionality)\n",
    "        \"\"\"\n",
    "        ones = np.ones((self.hidden_lstm_units, self.input_dim))\n",
    "        for rowi in range(ones.shape[0]):\n",
    "            for coli in range(ones.shape[1]):\n",
    "                ones[rowi,coli] = rowi+coli\n",
    "        self.input_stack[0].weight = Parameter(torch.tensor(\n",
    "            ones,\n",
    "            dtype=torch.float\n",
    "        ))\n",
    "        self.input_stack[0].bias = Parameter(torch.tensor(0, dtype=torch.float))\n",
    "        \n",
    "        for k in range(self.n_lstm_layers):\n",
    "            ones = np.ones(getattr(self.rnn,f\"weight_hh_l{k}\").shape)\n",
    "            setattr(self.rnn,f\"weight_hh_l{k}\",Parameter(torch.tensor(ones, dtype=torch.float)))\n",
    "\n",
    "        ones = np.ones(self.output_stack[0].weight.shape)   \n",
    "        self.output_stack[0].weight = Parameter(torch.tensor(\n",
    "            ones,\n",
    "            dtype=torch.float\n",
    "        ))\n",
    "        self.output_stack[0].bias = Parameter(torch.tensor(0, dtype=torch.float)) \n",
    "        \n",
    "    def fix_rnn_input_parameters(self):\n",
    "        eye = np.eye(self.hidden_lstm_units)\n",
    "        setattr(self.rnn, \n",
    "                \"weight_ih_l0\",\n",
    "                Parameter(torch.tensor(eye, dtype=torch.float), requires_grad=False))  \n",
    "        \n",
    "    def uniform_alignment(self, sequence_embedding1, length1, sequence_embedding2, length2):\n",
    "        r1 = sequence_embedding1[:length1,:].repeat(length2,1)\n",
    "        r2 = sequence_embedding2[:length2,:].repeat(length1,1)\n",
    "        return -(r1-r2).abs().sum()/(length1*length2)\n",
    "        \n",
    "    def embed_sequence(self, batch, lengths):\n",
    "        #unpack packed sequences in batch by padding: shape L*input_dim -> shape B*T*input_dim\n",
    "        #where L is the sum of all sequence lenghts in the batch\n",
    "        #where B is the batch size\n",
    "        #where T is the length of the longest sequence in the batch\n",
    "        batch_padded, _ = nn.utils.rnn.pad_packed_sequence(batch, batch_first=True)\n",
    "        \n",
    "        #relu transformation of input and packing sequences in batch for recurrent layer\n",
    "        #shape B*T*input_dim -> L*hidden_lstm_units\n",
    "        rnn_inputs = self.input_stack(batch_padded)\n",
    "        rnn_inputs = nn.utils.rnn.pack_padded_sequence(rnn_inputs, lengths=lengths, batch_first=True, enforce_sorted=False)\n",
    "\n",
    "        #apply recurrent layers and unpack by padding the output of the last recurrent layer\n",
    "        rnn_output = self.rnn(rnn_inputs)\n",
    "        rnn_out_unpacked, _ = nn.utils.rnn.pad_packed_sequence(rnn_output[0], batch_first=True)\n",
    "        \n",
    "        #feed output of recurrent layer to Relu unit\n",
    "        return self.output_stack(rnn_out_unpacked)        \n",
    "            \n",
    "    def forward(self, batch):\n",
    "        (batch1, lengths1), (batch2, lengths2), _ = batch\n",
    "        \n",
    "        sequence_embeddings1 = self.embed_sequence(batch1, lengths1)\n",
    "        sequence_embeddings2 = self.embed_sequence(batch2, lengths2)\n",
    "        \n",
    "        batch_size = sequence_embeddings1.size(0)\n",
    "        chunks1 = sequence_embeddings1.chunk(batch_size, 0)\n",
    "        chunks2 = sequence_embeddings2.chunk(batch_size, 0)\n",
    "        \n",
    "        alignment_scores = []\n",
    "        for embedding1, length1, embedding2, length2 in zip(chunks1,\n",
    "                                          lengths1,\n",
    "                                         chunks2,\n",
    "                                         lengths2):\n",
    "            flattened1 = torch.flatten(embedding1, start_dim=0, end_dim=1)\n",
    "            flattened2 = torch.flatten(embedding2, start_dim=0, end_dim=1)\n",
    "            alignment_score = self.uniform_alignment(flattened1, length1, flattened2, length2)\n",
    "            alignment_scores.append(alignment_score)\n",
    "        \n",
    "        return torch.stack(alignment_scores)\n",
    "        "
   ]
  },
  {
   "cell_type": "code",
   "execution_count": 84,
   "id": "b9f7599c",
   "metadata": {},
   "outputs": [
    {
     "data": {
      "text/plain": [
       "SequenceEmbedder(\n",
       "  (rnn): RNN(2, 2, bias=False, batch_first=True)\n",
       "  (input_stack): Sequential(\n",
       "    (0): Linear(in_features=3, out_features=2, bias=True)\n",
       "    (1): ReLU()\n",
       "  )\n",
       "  (output_stack): Sequential(\n",
       "    (0): Linear(in_features=2, out_features=2, bias=True)\n",
       "    (1): ReLU()\n",
       "  )\n",
       ")"
      ]
     },
     "execution_count": 84,
     "metadata": {},
     "output_type": "execute_result"
    }
   ],
   "source": [
    "model = SequenceEmbedder(3, hidden_lstm_units=2, output_dim=2, bidirectional=False)\n",
    "model._initialize_parameters()\n",
    "model.float()"
   ]
  },
  {
   "cell_type": "code",
   "execution_count": 85,
   "id": "7b86b9f9",
   "metadata": {},
   "outputs": [
    {
     "name": "stdout",
     "output_type": "stream",
     "text": [
      "tensor([-13.3333,  -2.6667], grad_fn=<StackBackward0>)\n"
     ]
    }
   ],
   "source": [
    "for x in dummy_dataloader:\n",
    "    out = model.forward(x)\n",
    "    print(out)"
   ]
  },
  {
   "cell_type": "code",
   "execution_count": null,
   "id": "94f87b90",
   "metadata": {},
   "outputs": [],
   "source": [
    "train_data = SequenceDataset(\"../../data/train_set_0.tsv\", lambda x: sequence_one_hot_encoder(aa2index, x))\n",
    "train_dataloader = DataLoader(train_data, batch_size=None, batch_sampler=None)\n",
    "#test_dataloader = DataLoader(test_data, batch_size=64)"
   ]
  },
  {
   "cell_type": "code",
   "execution_count": 158,
   "id": "e89ba9d6",
   "metadata": {},
   "outputs": [
    {
     "name": "stdout",
     "output_type": "stream",
     "text": [
      "64\n",
      "torch.Size([89, 512])\n",
      "torch.Size([11525, 512])\n",
      "torch.Size([11525, 1024])\n",
      "torch.Size([2, 64, 512])\n"
     ]
    }
   ],
   "source": []
  },
  {
   "cell_type": "code",
   "execution_count": null,
   "id": "7c662198",
   "metadata": {},
   "outputs": [],
   "source": [
    "def train_loop(dataloader, model, loss_fn, optimizer):\n",
    "    size = len(dataloader.dataset)\n",
    "    for batch, (X, y) in enumerate(dataloader):\n",
    "        # Compute prediction and loss\n",
    "        pred = model(X)\n",
    "        loss = loss_fn(pred, y)\n",
    "\n",
    "        # Backpropagation\n",
    "        optimizer.zero_grad()\n",
    "        loss.backward()\n",
    "        optimizer.step()\n",
    "\n",
    "        if batch % 100 == 0:\n",
    "            loss, current = loss.item(), batch * len(X)\n",
    "            print(f\"loss: {loss:>7f}  [{current:>5d}/{size:>5d}]\")\n",
    "\n",
    "\n",
    "def test_loop(dataloader, model, loss_fn):\n",
    "    size = len(dataloader.dataset)\n",
    "    num_batches = len(dataloader)\n",
    "    test_loss, correct = 0, 0\n",
    "\n",
    "    with torch.no_grad():\n",
    "        for X, y in dataloader:\n",
    "            pred = model(X)\n",
    "            test_loss += loss_fn(pred, y).item()\n",
    "            correct += (pred.argmax(1) == y).type(torch.float).sum().item()\n",
    "\n",
    "    test_loss /= num_batches\n",
    "    correct /= size\n",
    "    print(f\"Test Error: \\n Accuracy: {(100*correct):>0.1f}%, Avg loss: {test_loss:>8f} \\n\")"
   ]
  },
  {
   "cell_type": "code",
   "execution_count": null,
   "id": "cb424c70",
   "metadata": {},
   "outputs": [],
   "source": [
    "loss_fn = nn.CrossEntropyLoss()\n",
    "optimizer = torch.optim.SGD(model.parameters(), lr=learning_rate)\n",
    "\n",
    "epochs = 10\n",
    "for t in range(epochs):\n",
    "    print(f\"Epoch {t+1}\\n-------------------------------\")\n",
    "    train_loop(train_dataloader, model, loss_fn, optimizer)\n",
    "    test_loop(test_dataloader, model, loss_fn)\n",
    "print(\"Done!\")"
   ]
  }
 ],
 "metadata": {
  "kernelspec": {
   "display_name": "Python 3 (ipykernel)",
   "language": "python",
   "name": "python3"
  },
  "language_info": {
   "codemirror_mode": {
    "name": "ipython",
    "version": 3
   },
   "file_extension": ".py",
   "mimetype": "text/x-python",
   "name": "python",
   "nbconvert_exporter": "python",
   "pygments_lexer": "ipython3",
   "version": "3.9.4"
  }
 },
 "nbformat": 4,
 "nbformat_minor": 5
}
