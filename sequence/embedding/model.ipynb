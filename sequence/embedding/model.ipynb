{
 "cells": [
  {
   "cell_type": "code",
   "execution_count": 25,
   "id": "cc49e58a",
   "metadata": {},
   "outputs": [],
   "source": [
    "import itertools\n",
    "import numpy as np\n",
    "import torch\n",
    "from torch import nn\n",
    "from torch.utils.data import DataLoader, Dataset"
   ]
  },
  {
   "cell_type": "code",
   "execution_count": 137,
   "id": "e056772f",
   "metadata": {},
   "outputs": [],
   "source": [
    "amino_acids = \"arndcqeghilkmfpstwyv\"\n",
    "counter = itertools.count()\n",
    "aa2index = {a: next(counter) for a in amino_acids}\n",
    "\n",
    "def sequence_one_hot_encoder(indexer, sequence):\n",
    "    dim = len(indexer)\n",
    "    one_hot_encoded = np.zeros((len(sequence), dim+1))\n",
    "    for i, aa in enumerate(sequence):\n",
    "        index = indexer.get(aa, dim)\n",
    "        one_hot_encoded[i, index] = 1.0\n",
    "    return torch.tensor(one_hot_encoded, dtype=torch.float)\n",
    "\n",
    "def pack_batch(batch):\n",
    "    #lengths = [x.size(0) for x in batch]   # get the length of each sequence in the batch\\\n",
    "    #print(f\"sum of lengths {sum(lengths)}\")\n",
    "    #print(f\"max of lengths {max(lengths)}\")\n",
    "    #padded = nn.utils.rnn.pad_sequence(batch, batch_first=True)  # padd all sequences\n",
    "    #b, s, n = padded.shape\n",
    "    #print(f\"padded shape {padded.shape}\")\n",
    "        \n",
    "    # pack padded sequece\n",
    "    #padded = nn.utils.rnn.pack_padded_sequence(padded, lengths=lengths, batch_first=True, enforce_sorted=False)\n",
    "    packed = nn.utils.rnn.pack_sequence(batch, enforce_sorted=False)\n",
    "        \n",
    "    return packed\n",
    "\n",
    "def batchify(batch):\n",
    "    transposed_data = list(zip(*batch))\n",
    "    batch1, batch2, labels = transposed_data\n",
    "    \n",
    "    return pack_batch(batch1), pack_batch(batch2), torch.tensor(labels)\n",
    "\n",
    "class SequenceDataset(Dataset):\n",
    "    def __init__(self, fpath, encoder):\n",
    "        self.encoder = encoder\n",
    "        with open(fpath, \"r\") as fin:\n",
    "            self.lines = fin.readlines()\n",
    "\n",
    "    def __len__(self):\n",
    "        return len(self.lines)\n",
    "\n",
    "    def __getitem__(self, idx):\n",
    "        line = self.lines[idx]\n",
    "        sline = line.strip().split(\"\\t\")\n",
    "        return self.encoder(sline[0]), self.encoder(sline[1]), int(sline[4])"
   ]
  },
  {
   "cell_type": "code",
   "execution_count": 138,
   "id": "8fa53ba6",
   "metadata": {},
   "outputs": [],
   "source": [
    "train_data = SequenceDataset(\"../../data/train_set_0.tsv\", lambda x: sequence_one_hot_encoder(aa2index, x))\n",
    "train_dataloader = DataLoader(train_data, batch_size=None, batch_sampler=None)\n",
    "#test_dataloader = DataLoader(test_data, batch_size=64)"
   ]
  },
  {
   "cell_type": "code",
   "execution_count": 139,
   "id": "1987ecc2",
   "metadata": {},
   "outputs": [
    {
     "name": "stdout",
     "output_type": "stream",
     "text": [
      "torch.Size([89, 21])\n",
      "1\n"
     ]
    }
   ],
   "source": [
    "for batch in train_dataloader:\n",
    "    print(batch[0].shape)\n",
    "    print(batch[2])\n",
    "    break"
   ]
  },
  {
   "cell_type": "code",
   "execution_count": 153,
   "id": "36d7a4b4",
   "metadata": {},
   "outputs": [
    {
     "data": {
      "text/plain": [
       "SequenceEmbedder(\n",
       "  (lstm): LSTM(512, 512, batch_first=True, bidirectional=True)\n",
       "  (input_stack): Sequential(\n",
       "    (0): Linear(in_features=21, out_features=512, bias=True)\n",
       "    (1): ReLU()\n",
       "  )\n",
       ")"
      ]
     },
     "execution_count": 153,
     "metadata": {},
     "output_type": "execute_result"
    }
   ],
   "source": [
    "class SequenceEmbedder(nn.Module):\n",
    "    def __init__(self, input_dim, hidden_lstm_units=512, n_lstm_layers=1):\n",
    "        super(SequenceEmbedder, self).__init__()\n",
    "        \n",
    "        self.lstm = nn.LSTM(\n",
    "            input_size=hidden_lstm_units,\n",
    "            hidden_size=hidden_lstm_units,\n",
    "            num_layers=n_lstm_layers,\n",
    "            batch_first=True,\n",
    "            bidirectional=True,\n",
    "        ) \n",
    "        \n",
    "        self.input_stack = nn.Sequential(\n",
    "            nn.Linear(input_dim, hidden_lstm_units, dtype=float),\n",
    "            nn.ReLU()\n",
    "        )\n",
    "        \n",
    "        #self.output_stack = nn.Sequential(\n",
    "        #    nn.Linear(),\n",
    "        #    nn.ReLU()\n",
    "        #)\n",
    "\n",
    "    def forward(self, batch):\n",
    "        lstm_inputs = []\n",
    "        for sequence1, sequence2, label in batch:\n",
    "            lstm_inputs.append(self.input_stack(sequence1))\n",
    "            \n",
    "        print(len(lstm_inputs))\n",
    "        print(lstm_inputs[0].shape)\n",
    "        lstm_inputs = pack_batch(lstm_inputs)\n",
    "        print(lstm_inputs.data.shape)\n",
    "        \n",
    "        return self.lstm(lstm_inputs)\n",
    "        \n",
    "\n",
    "model = SequenceEmbedder(21)\n",
    "model.float()"
   ]
  },
  {
   "cell_type": "code",
   "execution_count": 158,
   "id": "e6f8b9ac",
   "metadata": {},
   "outputs": [
    {
     "name": "stdout",
     "output_type": "stream",
     "text": [
      "64\n",
      "torch.Size([89, 512])\n",
      "torch.Size([11525, 512])\n",
      "torch.Size([11525, 1024])\n",
      "torch.Size([2, 64, 512])\n"
     ]
    }
   ],
   "source": [
    "batch = []\n",
    "for i, x in enumerate(train_dataloader):\n",
    "    batch.append(x)\n",
    "    if i>=63:\n",
    "        break\n",
    "out, (final_hidden_state, final_cell_state) = model.forward(batch)\n",
    "print(out.data.shape)\n",
    "print(final_hidden_state.shape)"
   ]
  },
  {
   "cell_type": "code",
   "execution_count": null,
   "id": "0f8fc5a4",
   "metadata": {},
   "outputs": [],
   "source": [
    "def train_loop(dataloader, model, loss_fn, optimizer):\n",
    "    size = len(dataloader.dataset)\n",
    "    for batch, (X, y) in enumerate(dataloader):\n",
    "        # Compute prediction and loss\n",
    "        pred = model(X)\n",
    "        loss = loss_fn(pred, y)\n",
    "\n",
    "        # Backpropagation\n",
    "        optimizer.zero_grad()\n",
    "        loss.backward()\n",
    "        optimizer.step()\n",
    "\n",
    "        if batch % 100 == 0:\n",
    "            loss, current = loss.item(), batch * len(X)\n",
    "            print(f\"loss: {loss:>7f}  [{current:>5d}/{size:>5d}]\")\n",
    "\n",
    "\n",
    "def test_loop(dataloader, model, loss_fn):\n",
    "    size = len(dataloader.dataset)\n",
    "    num_batches = len(dataloader)\n",
    "    test_loss, correct = 0, 0\n",
    "\n",
    "    with torch.no_grad():\n",
    "        for X, y in dataloader:\n",
    "            pred = model(X)\n",
    "            test_loss += loss_fn(pred, y).item()\n",
    "            correct += (pred.argmax(1) == y).type(torch.float).sum().item()\n",
    "\n",
    "    test_loss /= num_batches\n",
    "    correct /= size\n",
    "    print(f\"Test Error: \\n Accuracy: {(100*correct):>0.1f}%, Avg loss: {test_loss:>8f} \\n\")"
   ]
  },
  {
   "cell_type": "code",
   "execution_count": null,
   "id": "034143b3",
   "metadata": {},
   "outputs": [],
   "source": [
    "loss_fn = nn.CrossEntropyLoss()\n",
    "optimizer = torch.optim.SGD(model.parameters(), lr=learning_rate)\n",
    "\n",
    "epochs = 10\n",
    "for t in range(epochs):\n",
    "    print(f\"Epoch {t+1}\\n-------------------------------\")\n",
    "    train_loop(train_dataloader, model, loss_fn, optimizer)\n",
    "    test_loop(test_dataloader, model, loss_fn)\n",
    "print(\"Done!\")"
   ]
  }
 ],
 "metadata": {
  "kernelspec": {
   "display_name": "Python 3 (ipykernel)",
   "language": "python",
   "name": "python3"
  },
  "language_info": {
   "codemirror_mode": {
    "name": "ipython",
    "version": 3
   },
   "file_extension": ".py",
   "mimetype": "text/x-python",
   "name": "python",
   "nbconvert_exporter": "python",
   "pygments_lexer": "ipython3",
   "version": "3.9.4"
  }
 },
 "nbformat": 4,
 "nbformat_minor": 5
}
