{
 "cells": [
  {
   "cell_type": "code",
   "execution_count": 1,
   "id": "f315b49f",
   "metadata": {},
   "outputs": [],
   "source": [
    "import re\n",
    "import math\n",
    "from collections import defaultdict\n",
    "\n",
    "import numpy as np\n",
    "import torch\n",
    "from sklearn.model_selection import train_test_split"
   ]
  },
  {
   "cell_type": "code",
   "execution_count": 2,
   "id": "9c3d499c",
   "metadata": {},
   "outputs": [
    {
     "name": "stdout",
     "output_type": "stream",
     "text": [
      "Using cpu device\n"
     ]
    }
   ],
   "source": [
    "device = 'cuda' if torch.cuda.is_available() else 'cpu'\n",
    "print(f'Using {device} device')"
   ]
  },
  {
   "cell_type": "code",
   "execution_count": 3,
   "id": "9fecf394",
   "metadata": {},
   "outputs": [],
   "source": [
    "scope_file = \"../../data/astral-scopedom-seqres-gd-sel-gs-bib-95-2.08.fa\"\n",
    "scope_pattern = re.compile(\"[abcdefghijkl]\\.[0-9]{1,3}\\.[0-9]{1,3}\\.[0-9]{1,3}\")"
   ]
  },
  {
   "cell_type": "code",
   "execution_count": 4,
   "id": "00de0111",
   "metadata": {},
   "outputs": [
    {
     "data": {
      "text/plain": [
       "'g.101.1.1'"
      ]
     },
     "execution_count": 4,
     "metadata": {},
     "output_type": "execute_result"
    }
   ],
   "source": [
    "test_header = \">d5lqwy_ g.101.1.1 (Y:) Pre-mRNA splicing factor Phf5 / Rds3 {Baker's yeast (Saccharomyces cerevisiae) [TaxId: 4932]}\"\n",
    "scope_pattern.search(test_header).group(0)"
   ]
  },
  {
   "cell_type": "code",
   "execution_count": 14,
   "id": "8021bde4",
   "metadata": {},
   "outputs": [],
   "source": [
    "def load_data(data_file):\n",
    "    sequences = []\n",
    "    scope_codes = []\n",
    "\n",
    "    with open(data_file, \"r\") as fin:\n",
    "        scope_code = \"\"\n",
    "        sequence = \"\"\n",
    "        for line in fin:\n",
    "            if line.startswith(\">\"):\n",
    "                sequences.append(sequence)\n",
    "                scope_codes.append(scope_code)\n",
    "\n",
    "                sequence = \"\"\n",
    "                scope_code = \"\"\n",
    "\n",
    "                header = line.strip()\n",
    "                m = scope_pattern.search(header)\n",
    "                if m is not None:\n",
    "                    scope_code = m.group(0)\n",
    "            else:\n",
    "                sequence += line.strip()\n",
    "\n",
    "    sequences = sequences[1:]\n",
    "    scope_codes = scope_codes[1:]\n",
    "    \n",
    "    return sequences, scope_codes"
   ]
  },
  {
   "cell_type": "code",
   "execution_count": 15,
   "id": "d1b5037e",
   "metadata": {},
   "outputs": [],
   "source": [
    "def generate_buckets(scope_codes):\n",
    "    scope_levels = defaultdict(list)\n",
    "    for i, scope_code in enumerate(scope_codes):\n",
    "        splitted_code = scope_code.split(\".\")\n",
    "        for j in range(1,5):\n",
    "            subcode = \".\".join(splitted_code[0:j])\n",
    "            scope_levels[subcode].append(i)\n",
    "            \n",
    "    #filtered_scope_levels = dict()\n",
    "    #for scope, sequence_ids in scope_levels.items():\n",
    "    #    if len(sequence_ids) > bucket_size:\n",
    "    #        filtered_scope_levels[scope] = sequence_ids\n",
    "            \n",
    "    return list(scope_levels.items())"
   ]
  },
  {
   "cell_type": "code",
   "execution_count": 94,
   "id": "5e57d8b4",
   "metadata": {},
   "outputs": [],
   "source": [
    "def compute_scope_pair_cdf(scope_levels, total_pairs, smoothing_func):\n",
    "    scope_pdf = list()\n",
    "    sum_npairs = 0\n",
    "    for scope_level, sequence_ids in scope_levels:\n",
    "        npairs = len(sequence_ids)*(len(sequence_ids)-1)/2.0\n",
    "        sum_npairs += npairs\n",
    "        scope_pdf.append((scope_level, smoothing_func(npairs)))\n",
    "        \n",
    "    different_scope_npairs = total_pairs - sum_npairs\n",
    "    print(f\"total pairs {total_pairs} and different pairs {different_scope_npairs}\")\n",
    "    scope_pdf.append((\"\", smoothing_func(different_scope_npairs)))\n",
    "        \n",
    "    normalization_constant = sum([i[1] for i in scope_pdf])\n",
    "    \n",
    "    scope_pdf = [(k,v/normalization_constant) for k, v in scope_pdf]\n",
    "   \n",
    "    cdf = np.cumsum([i[1] for i in scope_pdf])\n",
    "    scope_cdf = zip([i[0] for i in scope_pdf], cdf)\n",
    "\n",
    "    return scope_cdf, scope_pdf\n",
    "\n",
    "def compute_scope_cdf(scope_levels, smoothing_func):\n",
    "    scope_pdf = [(scope_level, smoothing_func(len(sequence_ids))) for scope_level, sequence_ids in scope_levels]\n",
    "\n",
    "    normalization_constant = sum([i[1] for i in scope_pdf])\n",
    "    \n",
    "    scope_pdf = [(k,v/normalization_constant) for k, v in scope_pdf]\n",
    "    \n",
    "    cdf = np.cumsum([i[1] for i in scope_pdf])\n",
    "    scope_cdf = zip([i[0] for i in scope_pdf], cdf)\n",
    "    \n",
    "    return scope_cdf, scope_pdf\n",
    "\n",
    "def get_sampled_element(cdf):\n",
    "    a = np.random.uniform(0, 1)\n",
    "    return np.argmax(cdf>=a)\n",
    "\n",
    "def run_sampling(cdf, n=5000):\n",
    "    for k in np.arange(n):\n",
    "        yield get_sampled_element(cdf)"
   ]
  },
  {
   "cell_type": "code",
   "execution_count": 165,
   "id": "3580ac56",
   "metadata": {},
   "outputs": [
    {
     "name": "stdout",
     "output_type": "stream",
     "text": [
      "total pairs 510161653.0 and different pairs 371609922.0\n"
     ]
    }
   ],
   "source": [
    "sequences, scope_codes = load_data(scope_file)\n",
    "sequences_train, sequences_test, scope_codes_train, scope_codes_test = train_test_split(sequences, scope_codes, test_size=0.1)\n",
    "scope_levels_train = generate_buckets(scope_codes_train)\n",
    "total_pairs_train = len(sequences_train)*(len(sequences_train)-1)/2.0\n",
    "scope_pair_cdf_train, scope_pair_pdf_train = compute_scope_pair_cdf(scope_levels_train, total_pairs_train, lambda x: np.power(x, 1))\n",
    "pair_cdf_train = np.array([i[1] for i in scope_pair_cdf_train])\n",
    "scope_cdf_train, scope_pdf_train = compute_scope_cdf(scope_levels_train, lambda x: x)\n",
    "cdf_train = np.array([i[1] for i in scope_cdf_train])"
   ]
  },
  {
   "cell_type": "code",
   "execution_count": 166,
   "id": "27cfe58d",
   "metadata": {},
   "outputs": [
    {
     "data": {
      "text/plain": [
       "defaultdict(int,\n",
       "            {2: 0.2489999999999889,\n",
       "             4: 0.24959999999998883,\n",
       "             1: 0.2433999999999895,\n",
       "             3: 0.2579999999999879})"
      ]
     },
     "execution_count": 166,
     "metadata": {},
     "output_type": "execute_result"
    }
   ],
   "source": [
    "level_counts = defaultdict(int)\n",
    "n = 10000\n",
    "for i in run_sampling(cdf_train, n):\n",
    "    level = len(scope_pdf_train[i][0].split(\".\"))\n",
    "    level_counts[level] += 1.0/n\n",
    "level_counts"
   ]
  },
  {
   "cell_type": "code",
   "execution_count": 167,
   "id": "528fcf5a",
   "metadata": {},
   "outputs": [
    {
     "data": {
      "text/plain": [
       "('', 0.7284160222838231)"
      ]
     },
     "execution_count": 167,
     "metadata": {},
     "output_type": "execute_result"
    }
   ],
   "source": [
    "scope_pair_pdf_train[-1]"
   ]
  },
  {
   "cell_type": "code",
   "execution_count": 168,
   "id": "92567809",
   "metadata": {},
   "outputs": [],
   "source": [
    "sequence_pairs = list()\n",
    "\n",
    "for i in run_sampling(pair_cdf_train, n=100000):\n",
    "    if i < len(scope_levels_train):\n",
    "        label, sequenceids = scope_levels_train[i]\n",
    "        i1, i2 = np.random.randint(0,len(sequenceids), 2)\n",
    "        seqid1 = sequenceids[i1]\n",
    "        seqid2 = sequenceids[i2]\n",
    "        sequence_pairs.append((sequences_train[seqid1], \n",
    "                               sequences_train[seqid2], \n",
    "                               scope_codes_train[seqid1], \n",
    "                               scope_codes_train[seqid2]))\n",
    "    else:\n",
    "        scope1i = 0\n",
    "        scope2i = 0\n",
    "        while scope1i == scope2i:\n",
    "            scope1i, scope2i = [i for i in run_sampling(cdf_train, n=2)]\n",
    "        scope1, sequenceids1 = scope_levels_train[scope1i]\n",
    "        scope2, sequenceids2 = scope_levels_train[scope2i]\n",
    "        i1 = np.random.randint(0,len(sequenceids1), 1)[0]\n",
    "        i2 = np.random.randint(0,len(sequenceids2), 1)[0]\n",
    "        seqid1 = sequenceids1[i1]\n",
    "        seqid2 = sequenceids2[i2]\n",
    "        sequence_pairs.append((sequences_train[seqid1], \n",
    "                               sequences_train[seqid2], \n",
    "                               scope_codes_train[seqid1], \n",
    "                               scope_codes_train[seqid2]))"
   ]
  },
  {
   "cell_type": "code",
   "execution_count": 169,
   "id": "31d128c3",
   "metadata": {},
   "outputs": [
    {
     "data": {
      "text/plain": [
       "3277"
      ]
     },
     "execution_count": 169,
     "metadata": {},
     "output_type": "execute_result"
    }
   ],
   "source": [
    "count = 0\n",
    "for p in sequence_pairs:\n",
    "    if p[2] == p[3]:\n",
    "        count += 1\n",
    "count"
   ]
  },
  {
   "cell_type": "code",
   "execution_count": 144,
   "id": "a8f87da8",
   "metadata": {},
   "outputs": [],
   "source": [
    "sequences, scope_codes = load_data(scope_file)\n",
    "sequences_train, sequences_test, scope_codes_train, scope_codes_test = train_test_split(sequences, scope_codes, test_size=0.1)\n",
    "scope_levels_train = generate_buckets(scope_codes_train)\n",
    "scope_cdf_train, scope_pdf_train = compute_scope_cdf(scope_levels_train, lambda x: np.power(x, 0.8))\n",
    "cdf_train = np.array([i[1] for i in scope_cdf_train])"
   ]
  },
  {
   "cell_type": "code",
   "execution_count": 145,
   "id": "113e54df",
   "metadata": {},
   "outputs": [],
   "source": [
    "sequence_pairs = list()\n",
    "\n",
    "for i in range(100000):\n",
    "        scope1i, scope2i = [i for i in run_sampling(cdf_train, n=2)]\n",
    "        scope1, sequences1 = scope_levels_train[scope1i]\n",
    "        scope2, sequences2 = scope_levels_train[scope2i]\n",
    "        i1 = np.random.randint(0,len(sequences1), 1)[0]\n",
    "        i2 = np.random.randint(0,len(sequences2), 1)[0]\n",
    "        sequence_pairs.append((sequences1[i1], sequences2[i2], scope1, scope2))"
   ]
  },
  {
   "cell_type": "code",
   "execution_count": 146,
   "id": "8d97cdf2",
   "metadata": {},
   "outputs": [
    {
     "data": {
      "text/plain": [
       "366"
      ]
     },
     "execution_count": 146,
     "metadata": {},
     "output_type": "execute_result"
    }
   ],
   "source": [
    "count = 0\n",
    "for p in sequence_pairs:\n",
    "    if p[2] == p[3]:\n",
    "        count += 1\n",
    "count"
   ]
  },
  {
   "cell_type": "code",
   "execution_count": 147,
   "id": "7ecb6bf4",
   "metadata": {},
   "outputs": [
    {
     "data": {
      "text/plain": [
       "[(10865, 11330, 'd.185.1', 'c'),\n",
       " (30315, 13272, 'd.309', 'c.55.1.0'),\n",
       " (26171, 20988, 'a', 'c'),\n",
       " (13827, 21092, 'g.3.6', 'a.32.1.1'),\n",
       " (31278, 5936, 'd.110', 'c'),\n",
       " (25095, 282, 'b.18.1.4', 'a.38.1'),\n",
       " (11874, 27738, 'd.14', 'c.1.14.0'),\n",
       " (8526, 22023, 'b.121.4.5', 'b'),\n",
       " (7129, 10178, 'd.130.1', 'g.44.1.0'),\n",
       " (2954, 13339, 'a.4.1.12', 'c.47'),\n",
       " (4361, 20060, 'a.45.1.1', 'g.101.1.1'),\n",
       " (13080, 7702, 'd.245.1', 'b'),\n",
       " (12919, 18104, 'b.1.2', 'd.58.7'),\n",
       " (7390, 28877, 'c.55.1', 'a'),\n",
       " (7446, 22349, 'd.185.1.1', 'b.74.1'),\n",
       " (18957, 29736, 'd.20.1.0', 'a.22.1'),\n",
       " (20399, 26286, 'd.92.1', 'd.139.1.1'),\n",
       " (31810, 20457, 'a.24.19.0', 'b'),\n",
       " (10645, 19534, 'b.78.1.0', 'd.186.1.1'),\n",
       " (22816, 8796, 'd.66.1', 'd.58.7.0'),\n",
       " (11626, 29086, 'g.79', 'c.37.1'),\n",
       " (154, 11591, 'b.1.1', 'b'),\n",
       " (24399, 19071, 'b.82', 'g'),\n",
       " (29226, 8688, 'b.147.1', 'd.41.2.0'),\n",
       " (27507, 11461, 'b.23', 'd'),\n",
       " (20991, 21266, 'b.19.1', 'd.198.1.1'),\n",
       " (17573, 20858, 'c.94.1.0', 'b.50.1'),\n",
       " (12703, 10519, 'c.67.1', 'c.98.1'),\n",
       " (30250, 6281, 'b.47', 'g.3.11.1'),\n",
       " (5579, 14231, 'c', 'f.13.1'),\n",
       " (18673, 31815, 'a.24', 'd.110.2.1'),\n",
       " (15990, 9522, 'd.3.1.0', 'f'),\n",
       " (27445, 28715, 'c.37', 'd.390.1.1'),\n",
       " (6224, 5142, 'c.70', 'b.1.2.0'),\n",
       " (23981, 3723, 'c.37.1.0', 'd.117.1.1'),\n",
       " (28526, 5564, 'd.290.1', 'c.55.3'),\n",
       " (23187, 25132, 'a.123.1', 'b.7'),\n",
       " (31485, 16671, 'd.2.1', 'c.37'),\n",
       " (9342, 15681, 'b.80.8.1', 'd.157.1.0'),\n",
       " (17424, 7001, 'f.23.33', 'a.102.4.4'),\n",
       " (19710, 23294, 'c.2.1.2', 'd.12.1.3'),\n",
       " (17108, 10582, 'd.15.2', 'g.86'),\n",
       " (622, 14973, 'b', 'a.2.11'),\n",
       " (21387, 10048, 'b.29.1.0', 'c.14.1.1'),\n",
       " (4495, 6541, 'a.39.1', 'd.58.17'),\n",
       " (778, 26276, 'b.40.14', 'd.261.1'),\n",
       " (30082, 12683, 'b.82', 'd.118.1'),\n",
       " (11794, 5385, 'b.1.2', 'b.1.18'),\n",
       " (15420, 2109, 'b.23.1.0', 'b.18.1.0'),\n",
       " (15562, 20268, 'd.307.1.1', 'b.1'),\n",
       " (7916, 3860, 'c.52.1.3', 'd.3.1.1'),\n",
       " (16894, 4366, 'c.155.1.1', 'b.45.1.0'),\n",
       " (21448, 29291, 'd.346.1.1', 'g.37'),\n",
       " (31072, 20948, 'd.229', 'b.1.11'),\n",
       " (10661, 10116, 'c.1.8', 'c.1.18'),\n",
       " (9253, 30332, 'b', 'g.4'),\n",
       " (1001, 3334, 'c.53.2', 'c.59'),\n",
       " (15433, 30218, 'd.58.6', 'd.58.5.3'),\n",
       " (17640, 27691, 'c.37.1', 'd.129.3'),\n",
       " (3767, 23142, 'd.58.7.1', 'b.121'),\n",
       " (10420, 1882, 'a.69.4', 'c.72.1.0'),\n",
       " (19181, 29270, 'd', 'd.157.1.7'),\n",
       " (29636, 10069, 'c.52.4.1', 'a.48'),\n",
       " (29125, 12183, 'c.1', 'c.26.2.1'),\n",
       " (2671, 20768, 'd.60', 'c.37.1.8'),\n",
       " (13427, 30836, 'f.23.10.1', 'g.3.7'),\n",
       " (3968, 29339, 'd.41.3', 'd.130.1'),\n",
       " (30258, 20071, 'a.4.5.11', 'd.36.1'),\n",
       " (14481, 28260, 'b.40.4.6', 'c.3.1'),\n",
       " (26471, 26996, 'd.161', 'd.265'),\n",
       " (17929, 14643, 'g.8.1', 'd.128'),\n",
       " (28050, 11752, 'f.28.1.1', 'c.108'),\n",
       " (21395, 22438, 'c.47', 'c.23.14'),\n",
       " (3219, 7875, 'c.2.1.0', 'e.3.1'),\n",
       " (28284, 26854, 'a.219.1', 'a.121.1'),\n",
       " (5797, 12781, 'c.91', 'f.23.12'),\n",
       " (15999, 20014, 'd.166', 'e.3'),\n",
       " (9985, 12403, 'b.46', 'a'),\n",
       " (22631, 24754, 'a.39.1.0', 'a.110.1.1'),\n",
       " (11554, 14398, 'b.121', 'c.10'),\n",
       " (31745, 14357, 'c.93', 'd.15.4.1'),\n",
       " (29554, 4706, 'a', 'f.1.3.1'),\n",
       " (18979, 14810, 'c.1.8.0', 'd.153.1.4'),\n",
       " (16621, 13798, 'b.80.8', 'b.88.2.0'),\n",
       " (2309, 10217, 'a.4.5.61', 'b.6.1.4'),\n",
       " (4889, 14129, 'a.118.3', 'd.216.1.1'),\n",
       " (21676, 3245, 'c.57.1', 'a.118.24'),\n",
       " (5693, 23940, 'b.50.1', 'b'),\n",
       " (19660, 11705, 'c.49.1', 'd'),\n",
       " (16975, 30163, 'g.16.2', 'a.39'),\n",
       " (6476, 5009, 'c.23.1', 'c.97.1.0'),\n",
       " (12185, 8800, 'c.69', 'b.77.3.1'),\n",
       " (26137, 14705, 'a', 'a.245.1'),\n",
       " (2411, 18701, 'c.56.5.5', 'c.37'),\n",
       " (12106, 18424, 'c.58.1', 'd.61'),\n",
       " (13517, 31372, 'c.1.10.5', 'd.3.1'),\n",
       " (31588, 22697, 'b.1', 'b'),\n",
       " (20935, 24267, 'c.92.2', 'b.4'),\n",
       " (19259, 2123, 'e.29.1', 'd.58.1.5'),\n",
       " (1804, 24823, 'd.44.1', 'b.142')]"
      ]
     },
     "execution_count": 147,
     "metadata": {},
     "output_type": "execute_result"
    }
   ],
   "source": [
    "sequence_pairs[:100]"
   ]
  },
  {
   "cell_type": "code",
   "execution_count": null,
   "id": "3e131e09",
   "metadata": {},
   "outputs": [],
   "source": []
  }
 ],
 "metadata": {
  "kernelspec": {
   "display_name": "Python 3 (ipykernel)",
   "language": "python",
   "name": "python3"
  },
  "language_info": {
   "codemirror_mode": {
    "name": "ipython",
    "version": 3
   },
   "file_extension": ".py",
   "mimetype": "text/x-python",
   "name": "python",
   "nbconvert_exporter": "python",
   "pygments_lexer": "ipython3",
   "version": "3.9.4"
  }
 },
 "nbformat": 4,
 "nbformat_minor": 5
}
