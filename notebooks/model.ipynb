{
 "cells": [
  {
   "cell_type": "code",
   "execution_count": 99,
   "id": "d307125d",
   "metadata": {},
   "outputs": [],
   "source": [
    "import itertools\n",
    "import numpy as np\n",
    "import torch\n",
    "from torch import nn\n",
    "from torch.nn.parameter import Parameter\n",
    "from torch.utils.data import DataLoader, Dataset\n",
    "import torch.nn.functional as F"
   ]
  },
  {
   "cell_type": "code",
   "execution_count": 101,
   "id": "747f076a",
   "metadata": {},
   "outputs": [
    {
     "data": {
      "text/plain": [
       "tensor([[1, 2, 3],\n",
       "        [2, 4, 6],\n",
       "        [3, 6, 9]])"
      ]
     },
     "execution_count": 101,
     "metadata": {},
     "output_type": "execute_result"
    }
   ],
   "source": [
    "t1 = torch.tensor([[1, 2,3]])\n",
    "t2 = torch.tensor([[1], [2],[3]])\n",
    "torch.matmul(t2, t1)"
   ]
  },
  {
   "cell_type": "code",
   "execution_count": 100,
   "id": "fa9a1c3b",
   "metadata": {},
   "outputs": [
    {
     "data": {
      "text/plain": [
       "tensor(-3.3333)"
      ]
     },
     "execution_count": 100,
     "metadata": {},
     "output_type": "execute_result"
    }
   ],
   "source": [
    "t1 = torch.tensor([[1, 2],\n",
    "                   [3, 4],\n",
    "                  [0, 0]])\n",
    "t2 = torch.tensor([[1, 2],\n",
    "                   [3, 4],\n",
    "                  [5, 6]])\n",
    "\n",
    "r1 = t1[:2,:].repeat(3,1)\n",
    "r2 = t2[:3,:].repeat(2,1)\n",
    "a = -(r1-r2).abs().sum()/(2*3)\n",
    "a"
   ]
  },
  {
   "cell_type": "code",
   "execution_count": 53,
   "id": "e9159062",
   "metadata": {},
   "outputs": [
    {
     "name": "stdout",
     "output_type": "stream",
     "text": [
      "torch.Size([1, 2, 2])\n",
      "torch.Size([2, 2])\n"
     ]
    }
   ],
   "source": [
    "t = torch.tensor([[[1, 2],\n",
    "                   [3, 4]]])\n",
    "print(t.shape)\n",
    "print(torch.flatten(t, start_dim=0, end_dim=1).shape)"
   ]
  },
  {
   "cell_type": "code",
   "execution_count": 2,
   "id": "e43a50d8",
   "metadata": {},
   "outputs": [
    {
     "data": {
      "text/plain": [
       "tensor([[ 1,  2],\n",
       "        [ 5,  6],\n",
       "        [ 9, 10],\n",
       "        [30, 40],\n",
       "        [70, 80]])"
      ]
     },
     "execution_count": 2,
     "metadata": {},
     "output_type": "execute_result"
    }
   ],
   "source": [
    "t = torch.tensor([[1, 2], [30, 40],[5,6],[70,80],[9,10]])\n",
    "t.gather(0, torch.tensor([[0, 0],[2,2],[4,4],[1,1],[3,3]]))"
   ]
  },
  {
   "cell_type": "code",
   "execution_count": 3,
   "id": "7fd0ce9b",
   "metadata": {},
   "outputs": [
    {
     "data": {
      "text/plain": [
       "PackedSequence(data=tensor([1, 4, 6, 2, 5, 3]), batch_sizes=tensor([3, 2, 1]), sorted_indices=tensor([1, 2, 0]), unsorted_indices=tensor([2, 0, 1]))"
      ]
     },
     "execution_count": 3,
     "metadata": {},
     "output_type": "execute_result"
    }
   ],
   "source": [
    "from torch.nn.utils.rnn import pack_sequence\n",
    "a = torch.tensor([1,2,3])\n",
    "b = torch.tensor([4,5])\n",
    "c = torch.tensor([6])\n",
    "pack_sequence([c, a, b], enforce_sorted=False)"
   ]
  },
  {
   "cell_type": "code",
   "execution_count": 4,
   "id": "0098449b",
   "metadata": {},
   "outputs": [
    {
     "name": "stdout",
     "output_type": "stream",
     "text": [
      "<AddBackward0 object at 0x10dbaeca0>\n"
     ]
    }
   ],
   "source": [
    "x = torch.ones(5)  # input tensor\n",
    "y = torch.zeros(3)  # expected output\n",
    "w = torch.randn(5, 3, requires_grad=True)\n",
    "b = torch.randn(3, requires_grad=True)\n",
    "z = torch.matmul(x, w)+b\n",
    "print(z.grad_fn)"
   ]
  },
  {
   "cell_type": "code",
   "execution_count": 250,
   "id": "2284284c",
   "metadata": {},
   "outputs": [],
   "source": [
    "amino_acids = \"arndcqeghilkmfpstwyv\"\n",
    "counter = itertools.count()\n",
    "aa2index = {a: next(counter) for a in amino_acids}\n",
    "dummy2index = {\"a\": 0, \"b\": 1}\n",
    "\n",
    "def sequence_one_hot_encoder(indexer, sequence):\n",
    "    dim = len(indexer)\n",
    "    one_hot_encoded = np.zeros((len(sequence), dim+1))\n",
    "    for i, aa in enumerate(sequence):\n",
    "        index = indexer.get(aa, dim)\n",
    "        one_hot_encoded[i, index] = 1.0\n",
    "    return torch.tensor(one_hot_encoded, dtype=torch.float)\n",
    "\n",
    "def pack_batch(batch):\n",
    "    lengths = [x.size(0) for x in batch]   # get the length of each sequence in the batch\\\n",
    "    #print(f\"sum of lengths {sum(lengths)}\")\n",
    "    #print(f\"max of lengths {max(lengths)}\")\n",
    "    padded = nn.utils.rnn.pad_sequence(batch, batch_first=True)  # padd all sequences\n",
    "    #b, s, n = padded.shape\n",
    "    #print(f\"padded shape {padded.shape}\")\n",
    "        \n",
    "    # pack padded sequece\n",
    "    packed = nn.utils.rnn.pack_padded_sequence(padded, lengths=lengths, batch_first=True, enforce_sorted=False)\n",
    "    #packed = nn.utils.rnn.pack_sequence(batch, enforce_sorted=False)\n",
    "        \n",
    "    return packed, lengths\n",
    "\n",
    "def batchify(batch):\n",
    "    transposed_data = list(zip(*batch))\n",
    "    batch1, batch2, labels = transposed_data\n",
    "    \n",
    "    return pack_batch(batch1), pack_batch(batch2), torch.stack(labels, dim=0)\n",
    "\n",
    "class SequenceDataset(Dataset):\n",
    "    def __init__(self, fpath, encoder):\n",
    "        self.encoder = encoder\n",
    "        with open(fpath, \"r\") as fin:\n",
    "            self.lines = fin.readlines()\n",
    "\n",
    "    def __len__(self):\n",
    "        return len(self.lines)\n",
    "\n",
    "    def __getitem__(self, idx):\n",
    "        line = self.lines[idx]\n",
    "        sline = line.strip().split(\"\\t\")\n",
    "        label_tensor = torch.tensor(np.ones((1,4)))\n",
    "        label = int(sline[4])\n",
    "        label_tensor[0,label:] = 0\n",
    "        return self.encoder(sline[0]), self.encoder(sline[1]), label_tensor\n",
    "    \n",
    "class DummyDataset(Dataset):\n",
    "    def __init__(self, encoder):\n",
    "        self.encoder = encoder\n",
    "        self.lines = [\n",
    "            (\"ba\", \"bba\",\"a.1.1.1\",\"a.2.1.1\",2),\n",
    "            (\"aba\",\"aab\",\"a.1.1.1\",\"a.1.1.1\",4),\n",
    "        ]\n",
    "\n",
    "    def __len__(self):\n",
    "        return len(self.lines)\n",
    "\n",
    "    def __getitem__(self, idx):\n",
    "        sline = self.lines[idx]\n",
    "        label_tensor = torch.tensor(np.ones((1,4)))\n",
    "        label = int(sline[4])\n",
    "        label_tensor[0,label:] = 0        \n",
    "        return self.encoder(sline[0]), self.encoder(sline[1]), label_tensor"
   ]
  },
  {
   "cell_type": "code",
   "execution_count": 251,
   "id": "b77fee81",
   "metadata": {},
   "outputs": [],
   "source": [
    "dummy_data = DummyDataset(lambda x: sequence_one_hot_encoder(dummy2index, x))\n",
    "#dummy_dataloader = DataLoader(dummy_data, batch_size=None, batch_sampler=None)\n",
    "dummy_dataloader = DataLoader(dummy_data, batch_size=2, collate_fn=batchify)"
   ]
  },
  {
   "cell_type": "code",
   "execution_count": 252,
   "id": "1f428eaf",
   "metadata": {},
   "outputs": [],
   "source": [
    "def uniform_alignment(sequence_embedding1, length1, sequence_embedding2, length2):\n",
    "    r1 = sequence_embedding1[:length1,:].repeat(length2,1)\n",
    "    r2 = sequence_embedding2[:length2,:].repeat(length1,1)\n",
    "    #print(r1)\n",
    "    #print(r2)\n",
    "    return -(r1-r2).abs().sum()/(length1*length2)\n",
    "\n",
    "class OrdinalRegression(nn.Module):\n",
    "    def __init__(self, n_classes):\n",
    "        self.n_classes = n_classes\n",
    "        self.coefficients = torch.tensor(np.ones((1, n_classes))/n_classes, requires_grad=True, dtype=torch.float)    \n",
    "        self.bias = torch.tensor(np.zeros((1, n_classes)), requires_grad=True, dtype=torch.float)\n",
    "        \n",
    "    def forward(self, batch):\n",
    "        if batch.size(1) != 1:\n",
    "            raise Exception(\"second dimension of input should be 1\")\n",
    "        expanded_bias = self.bias.expand(batch.size(0),-1)\n",
    "        return torch.sigmoid(torch.matmul(batch,F.relu(self.coefficients))+expanded_bias)\n",
    "    \n",
    "def structural_similarity_loss(predictions, labels):\n",
    "    loss_matrix = torch.mul(torch.log(predictions), labels) + torch.mul(torch.log(1.0-predictions), 1-labels)\n",
    "    return -torch.mean(torch.sum(loss_matrix, dim=1))"
   ]
  },
  {
   "cell_type": "code",
   "execution_count": 292,
   "id": "2bd77235",
   "metadata": {},
   "outputs": [],
   "source": [
    "class SequenceEmbedder(nn.Module):\n",
    "    def __init__(self, n_classes, input_dim, hidden_lstm_units=512, n_lstm_layers=1, output_dim=100, bidirectional=True):\n",
    "        super(SequenceEmbedder, self).__init__()\n",
    "        \n",
    "        self.n_classes = n_classes\n",
    "        self.input_dim = input_dim\n",
    "        self.hidden_lstm_units = hidden_lstm_units\n",
    "        self.n_lstm_layers = n_lstm_layers\n",
    "        self.bidirectional = bidirectional\n",
    "        self.output_dim = output_dim\n",
    "        \n",
    "        self.rnn = nn.LSTM(#TODO: adjust between LSTM/GRU/RNN\n",
    "            input_size=hidden_lstm_units,\n",
    "            hidden_size=hidden_lstm_units,\n",
    "            num_layers=n_lstm_layers,\n",
    "            batch_first=True,\n",
    "            bidirectional=bidirectional,\n",
    "            bias=False,\n",
    "            #nonlinearity=\"relu\" #TODO: adjust between LSTM/GRU/RNN\n",
    "        ) \n",
    "        self.fix_rnn_input_parameters()\n",
    "        \n",
    "        self.input_stack = nn.Sequential(\n",
    "            nn.Linear(input_dim, hidden_lstm_units, dtype=torch.float),\n",
    "            nn.ReLU()\n",
    "        )\n",
    "        \n",
    "        self.D = 2 if self.bidirectional else 1\n",
    "        self.output_stack = nn.Sequential(\n",
    "            nn.Linear(self.D*hidden_lstm_units, output_dim, dtype=torch.float),\n",
    "            nn.ReLU()\n",
    "        )\n",
    "        \n",
    "    def _initialize_parameters(self):\n",
    "        \"\"\"\n",
    "        Just to initialize a simple RNN with fixed values for debugging and understanding PyTorch forward flow\n",
    "        Important note: will not work with LSTM or GRU, will not work with bias in RNN (or bidirectionality)\n",
    "        \"\"\"\n",
    "        ones = np.ones((self.hidden_lstm_units, self.input_dim))\n",
    "        for rowi in range(ones.shape[0]):\n",
    "            for coli in range(ones.shape[1]):\n",
    "                ones[rowi,coli] = rowi+coli\n",
    "        self.input_stack[0].weight = Parameter(torch.tensor(\n",
    "            ones,\n",
    "            dtype=torch.float\n",
    "        ))\n",
    "        self.input_stack[0].bias = Parameter(torch.tensor(0, dtype=torch.float))\n",
    "        \n",
    "        for k in range(self.n_lstm_layers):\n",
    "            ones = np.ones(getattr(self.rnn,f\"weight_hh_l{k}\").shape)\n",
    "            setattr(self.rnn,f\"weight_hh_l{k}\",Parameter(torch.tensor(ones, dtype=torch.float)))\n",
    "\n",
    "        ones = np.ones(self.output_stack[0].weight.shape)   \n",
    "        self.output_stack[0].weight = Parameter(torch.tensor(\n",
    "            ones,\n",
    "            dtype=torch.float\n",
    "        ))\n",
    "        self.output_stack[0].bias = Parameter(torch.tensor(0, dtype=torch.float)) \n",
    "        \n",
    "    def fix_rnn_input_parameters(self):\n",
    "        #TODO: adjust between LSTM/GRU/RNN\n",
    "        eye = np.repeat(np.eye(self.hidden_lstm_units), 4, axis=0)\n",
    "        setattr(self.rnn, \n",
    "                \"weight_ih_l0\",\n",
    "                Parameter(torch.tensor(eye, dtype=torch.float), requires_grad=False))  \n",
    "        \n",
    "    def embed_sequence(self, batch, lengths):\n",
    "        #unpack packed sequences in batch by padding: shape L*input_dim -> shape B*T*input_dim\n",
    "        #where L is the sum of all sequence lenghts in the batch\n",
    "        #where B is the batch size\n",
    "        #where T is the length of the longest sequence in the batch\n",
    "        batch_padded, _ = nn.utils.rnn.pad_packed_sequence(batch, batch_first=True)\n",
    "        \n",
    "        #relu transformation of input and packing sequences in batch for recurrent layer\n",
    "        #shape B*T*input_dim -> L*hidden_lstm_units\n",
    "        rnn_inputs = self.input_stack(batch_padded)\n",
    "        #print(f\"{rnn_inputs}\")\n",
    "        rnn_inputs = nn.utils.rnn.pack_padded_sequence(rnn_inputs, lengths=lengths, batch_first=True, enforce_sorted=False)\n",
    "        #print(f\"{rnn_inputs}\")\n",
    "        \n",
    "        #apply recurrent layers and unpack by padding the output of the last recurrent layer\n",
    "        #lstm_h_0 = torch.tensor(np.zeros((self.D*self.n_lstm_layers, batch.batch_sizes[0], self.hidden_lstm_units)), dtype=torch.float)\n",
    "        #lstm_c_0 = torch.tensor(np.zeros((self.D*self.n_lstm_layers, batch.batch_sizes[0], self.hidden_lstm_units)), dtype=torch.float)\n",
    "        rnn_output = self.rnn(rnn_inputs)\n",
    "        rnn_out_unpacked, _ = nn.utils.rnn.pad_packed_sequence(rnn_output[0], batch_first=True)\n",
    "        \n",
    "        #feed output of recurrent layer to Relu unit\n",
    "        return self.output_stack(rnn_out_unpacked)        \n",
    "            \n",
    "    def forward(self, batch):\n",
    "        (batch1, lengths1), (batch2, lengths2), labels = batch\n",
    "        \n",
    "        sequence_embeddings1 = self.embed_sequence(batch1, lengths1)\n",
    "        sequence_embeddings2 = self.embed_sequence(batch2, lengths2)\n",
    "        \n",
    "        batch_size = sequence_embeddings1.size(0)\n",
    "        chunks1 = sequence_embeddings1.chunk(batch_size, 0)\n",
    "        chunks2 = sequence_embeddings2.chunk(batch_size, 0)\n",
    "        \n",
    "        alignment_scores = []\n",
    "        for embedding1, length1, embedding2, length2 in zip(chunks1,\n",
    "                                          lengths1,\n",
    "                                         chunks2,\n",
    "                                         lengths2):\n",
    "            flattened1 = torch.flatten(embedding1, start_dim=0, end_dim=1)\n",
    "            flattened2 = torch.flatten(embedding2, start_dim=0, end_dim=1)\n",
    "            alignment_score = uniform_alignment(flattened1, length1, flattened2, length2)\n",
    "            alignment_scores.append(alignment_score)\n",
    "        \n",
    "        stacked_scores = torch.tensor(alignment_scores).reshape((len(alignment_scores),1))\n",
    "        \n",
    "        stacked_predictions = OrdinalRegression(self.n_classes).forward(stacked_scores)\n",
    "        \n",
    "        #TODO: labels should be processed somewhere else\n",
    "        return stacked_predictions, labels\n",
    "        "
   ]
  },
  {
   "cell_type": "code",
   "execution_count": 303,
   "id": "72497bad",
   "metadata": {},
   "outputs": [
    {
     "data": {
      "text/plain": [
       "SequenceEmbedder(\n",
       "  (rnn): LSTM(2, 2, bias=False, batch_first=True, bidirectional=True)\n",
       "  (input_stack): Sequential(\n",
       "    (0): Linear(in_features=3, out_features=2, bias=True)\n",
       "    (1): ReLU()\n",
       "  )\n",
       "  (output_stack): Sequential(\n",
       "    (0): Linear(in_features=4, out_features=2, bias=True)\n",
       "    (1): ReLU()\n",
       "  )\n",
       ")"
      ]
     },
     "execution_count": 303,
     "metadata": {},
     "output_type": "execute_result"
    }
   ],
   "source": [
    "model = SequenceEmbedder(4, 3, hidden_lstm_units=2, output_dim=2, bidirectional=True)\n",
    "#model._initialize_parameters()\n",
    "model.float()"
   ]
  },
  {
   "cell_type": "code",
   "execution_count": 304,
   "id": "159c5454",
   "metadata": {},
   "outputs": [
    {
     "name": "stdout",
     "output_type": "stream",
     "text": [
      "((PackedSequence(data=tensor([[1., 0., 0.],\n",
      "        [0., 1., 0.],\n",
      "        [0., 1., 0.],\n",
      "        [1., 0., 0.],\n",
      "        [1., 0., 0.]]), batch_sizes=tensor([2, 2, 1]), sorted_indices=tensor([1, 0]), unsorted_indices=tensor([1, 0])), [2, 3]), (PackedSequence(data=tensor([[0., 1., 0.],\n",
      "        [1., 0., 0.],\n",
      "        [0., 1., 0.],\n",
      "        [1., 0., 0.],\n",
      "        [1., 0., 0.],\n",
      "        [0., 1., 0.]]), batch_sizes=tensor([2, 2, 2]), sorted_indices=tensor([0, 1]), unsorted_indices=tensor([0, 1])), [3, 3]), tensor([[[1., 1., 0., 0.]],\n",
      "\n",
      "        [[1., 1., 1., 1.]]], dtype=torch.float64))\n",
      "(tensor([[0.4976, 0.4976, 0.4976, 0.4976],\n",
      "        [0.4971, 0.4971, 0.4971, 0.4971]], grad_fn=<SigmoidBackward0>), tensor([[[1., 1., 0., 0.]],\n",
      "\n",
      "        [[1., 1., 1., 1.]]], dtype=torch.float64))\n",
      "tensor(1.3916, dtype=torch.float64, grad_fn=<NegBackward0>)\n"
     ]
    }
   ],
   "source": [
    "for x in dummy_dataloader:\n",
    "    print(x)\n",
    "    out = model(x)\n",
    "    print(out)\n",
    "print(structural_similarity_loss(out[0],out[1]))"
   ]
  },
  {
   "cell_type": "code",
   "execution_count": 295,
   "id": "9e856769",
   "metadata": {},
   "outputs": [],
   "source": [
    "train_data = SequenceDataset(\"../../data/train_set_0.tsv\", lambda x: sequence_one_hot_encoder(aa2index, x))\n",
    "train_dataloader = DataLoader(train_data, batch_size=None, batch_sampler=None)\n",
    "#test_dataloader = DataLoader(test_data, batch_size=64)"
   ]
  },
  {
   "cell_type": "code",
   "execution_count": null,
   "id": "9166a153",
   "metadata": {},
   "outputs": [],
   "source": []
  },
  {
   "cell_type": "code",
   "execution_count": 305,
   "id": "b78c29a7",
   "metadata": {},
   "outputs": [],
   "source": [
    "def train_loop(dataloader, model, loss_fn, optimizer):\n",
    "    size = len(dataloader.dataset)\n",
    "    for batchi, batch in enumerate(dataloader):\n",
    "        # Compute prediction and loss\n",
    "        out = model(batch)\n",
    "        loss = loss_fn(out[0], out[1])\n",
    "\n",
    "        # Backpropagation\n",
    "        optimizer.zero_grad()\n",
    "        loss.backward()\n",
    "        optimizer.step()\n",
    "\n",
    "        if batchi % 100 == 0:\n",
    "            loss, current = loss.item(), batchi * batch[0][0].batch_sizes[0]\n",
    "            print(f\"loss: {loss:>7f}  [{current:>5d}/{size:>5d}]\")\n",
    "\n",
    "\n",
    "def test_loop(dataloader, model, loss_fn):\n",
    "    size = len(dataloader.dataset)\n",
    "    num_batches = len(dataloader)\n",
    "    test_loss, correct = 0, 0\n",
    "\n",
    "    with torch.no_grad():\n",
    "        for X, y in dataloader:\n",
    "            pred = model(X)\n",
    "            test_loss += loss_fn(pred, y).item()\n",
    "            correct += (pred.argmax(1) == y).type(torch.float).sum().item()\n",
    "\n",
    "    test_loss /= num_batches\n",
    "    correct /= size\n",
    "    print(f\"Test Error: \\n Accuracy: {(100*correct):>0.1f}%, Avg loss: {test_loss:>8f} \\n\")"
   ]
  },
  {
   "cell_type": "code",
   "execution_count": 306,
   "id": "47907f86",
   "metadata": {},
   "outputs": [
    {
     "name": "stdout",
     "output_type": "stream",
     "text": [
      "Epoch 1\n",
      "-------------------------------\n",
      "loss: 41.056584  [    0/100000]\n",
      "loss: 41.267984  [ 6400/100000]\n",
      "loss: 41.311211  [12800/100000]\n",
      "loss: 41.232817  [19200/100000]\n",
      "loss: 41.083286  [25600/100000]\n",
      "loss: 40.701659  [32000/100000]\n",
      "loss: 41.186644  [38400/100000]\n",
      "loss: 40.855392  [44800/100000]\n",
      "loss: 41.383181  [51200/100000]\n",
      "loss: 40.630810  [57600/100000]\n",
      "loss: 40.769735  [64000/100000]\n",
      "loss: 40.753051  [70400/100000]\n",
      "loss: 41.190194  [76800/100000]\n",
      "loss: 41.461689  [83200/100000]\n",
      "loss: 41.282957  [89600/100000]\n",
      "loss: 41.322677  [96000/100000]\n",
      "Epoch 2\n",
      "-------------------------------\n",
      "loss: 41.056584  [    0/100000]\n",
      "loss: 41.267984  [ 6400/100000]\n",
      "loss: 41.311211  [12800/100000]\n",
      "loss: 41.232817  [19200/100000]\n",
      "loss: 41.083286  [25600/100000]\n",
      "loss: 40.701659  [32000/100000]\n",
      "loss: 41.186644  [38400/100000]\n",
      "loss: 40.855392  [44800/100000]\n",
      "loss: 41.383181  [51200/100000]\n",
      "loss: 40.630810  [57600/100000]\n",
      "loss: 40.769735  [64000/100000]\n",
      "loss: 40.753051  [70400/100000]\n",
      "loss: 41.190194  [76800/100000]\n",
      "loss: 41.461689  [83200/100000]\n"
     ]
    },
    {
     "ename": "KeyboardInterrupt",
     "evalue": "",
     "output_type": "error",
     "traceback": [
      "\u001b[0;31m---------------------------------------------------------------------------\u001b[0m",
      "\u001b[0;31mKeyboardInterrupt\u001b[0m                         Traceback (most recent call last)",
      "\u001b[0;32m/var/folders/0z/4cw4vb4x2fq7ks55f299ml8c0000gn/T/ipykernel_33141/776295836.py\u001b[0m in \u001b[0;36m<module>\u001b[0;34m\u001b[0m\n\u001b[1;32m     15\u001b[0m \u001b[0;32mfor\u001b[0m \u001b[0mt\u001b[0m \u001b[0;32min\u001b[0m \u001b[0mrange\u001b[0m\u001b[0;34m(\u001b[0m\u001b[0mepochs\u001b[0m\u001b[0;34m)\u001b[0m\u001b[0;34m:\u001b[0m\u001b[0;34m\u001b[0m\u001b[0;34m\u001b[0m\u001b[0m\n\u001b[1;32m     16\u001b[0m     \u001b[0mprint\u001b[0m\u001b[0;34m(\u001b[0m\u001b[0;34mf\"Epoch {t+1}\\n-------------------------------\"\u001b[0m\u001b[0;34m)\u001b[0m\u001b[0;34m\u001b[0m\u001b[0;34m\u001b[0m\u001b[0m\n\u001b[0;32m---> 17\u001b[0;31m     \u001b[0mtrain_loop\u001b[0m\u001b[0;34m(\u001b[0m\u001b[0msequence_dataloader\u001b[0m\u001b[0;34m,\u001b[0m \u001b[0mmodel\u001b[0m\u001b[0;34m,\u001b[0m \u001b[0mloss_fn\u001b[0m\u001b[0;34m,\u001b[0m \u001b[0moptimizer\u001b[0m\u001b[0;34m)\u001b[0m\u001b[0;34m\u001b[0m\u001b[0;34m\u001b[0m\u001b[0m\n\u001b[0m\u001b[1;32m     18\u001b[0m     \u001b[0;31m#test_loop(test_dataloader, model, loss_fn)\u001b[0m\u001b[0;34m\u001b[0m\u001b[0;34m\u001b[0m\u001b[0;34m\u001b[0m\u001b[0m\n\u001b[1;32m     19\u001b[0m \u001b[0mprint\u001b[0m\u001b[0;34m(\u001b[0m\u001b[0;34m\"Done!\"\u001b[0m\u001b[0;34m)\u001b[0m\u001b[0;34m\u001b[0m\u001b[0;34m\u001b[0m\u001b[0m\n",
      "\u001b[0;32m/var/folders/0z/4cw4vb4x2fq7ks55f299ml8c0000gn/T/ipykernel_33141/2896295860.py\u001b[0m in \u001b[0;36mtrain_loop\u001b[0;34m(dataloader, model, loss_fn, optimizer)\u001b[0m\n\u001b[1;32m      3\u001b[0m     \u001b[0;32mfor\u001b[0m \u001b[0mbatchi\u001b[0m\u001b[0;34m,\u001b[0m \u001b[0mbatch\u001b[0m \u001b[0;32min\u001b[0m \u001b[0menumerate\u001b[0m\u001b[0;34m(\u001b[0m\u001b[0mdataloader\u001b[0m\u001b[0;34m)\u001b[0m\u001b[0;34m:\u001b[0m\u001b[0;34m\u001b[0m\u001b[0;34m\u001b[0m\u001b[0m\n\u001b[1;32m      4\u001b[0m         \u001b[0;31m# Compute prediction and loss\u001b[0m\u001b[0;34m\u001b[0m\u001b[0;34m\u001b[0m\u001b[0;34m\u001b[0m\u001b[0m\n\u001b[0;32m----> 5\u001b[0;31m         \u001b[0mout\u001b[0m \u001b[0;34m=\u001b[0m \u001b[0mmodel\u001b[0m\u001b[0;34m(\u001b[0m\u001b[0mbatch\u001b[0m\u001b[0;34m)\u001b[0m\u001b[0;34m\u001b[0m\u001b[0;34m\u001b[0m\u001b[0m\n\u001b[0m\u001b[1;32m      6\u001b[0m         \u001b[0mloss\u001b[0m \u001b[0;34m=\u001b[0m \u001b[0mloss_fn\u001b[0m\u001b[0;34m(\u001b[0m\u001b[0mout\u001b[0m\u001b[0;34m[\u001b[0m\u001b[0;36m0\u001b[0m\u001b[0;34m]\u001b[0m\u001b[0;34m,\u001b[0m \u001b[0mout\u001b[0m\u001b[0;34m[\u001b[0m\u001b[0;36m1\u001b[0m\u001b[0;34m]\u001b[0m\u001b[0;34m)\u001b[0m\u001b[0;34m\u001b[0m\u001b[0;34m\u001b[0m\u001b[0m\n\u001b[1;32m      7\u001b[0m \u001b[0;34m\u001b[0m\u001b[0m\n",
      "\u001b[0;32m~/.pyenv/versions/3.9.4/envs/sequence-embeddings/lib/python3.9/site-packages/torch/nn/modules/module.py\u001b[0m in \u001b[0;36m_call_impl\u001b[0;34m(self, *input, **kwargs)\u001b[0m\n\u001b[1;32m   1100\u001b[0m         if not (self._backward_hooks or self._forward_hooks or self._forward_pre_hooks or _global_backward_hooks\n\u001b[1;32m   1101\u001b[0m                 or _global_forward_hooks or _global_forward_pre_hooks):\n\u001b[0;32m-> 1102\u001b[0;31m             \u001b[0;32mreturn\u001b[0m \u001b[0mforward_call\u001b[0m\u001b[0;34m(\u001b[0m\u001b[0;34m*\u001b[0m\u001b[0minput\u001b[0m\u001b[0;34m,\u001b[0m \u001b[0;34m**\u001b[0m\u001b[0mkwargs\u001b[0m\u001b[0;34m)\u001b[0m\u001b[0;34m\u001b[0m\u001b[0;34m\u001b[0m\u001b[0m\n\u001b[0m\u001b[1;32m   1103\u001b[0m         \u001b[0;31m# Do not call functions when jit is used\u001b[0m\u001b[0;34m\u001b[0m\u001b[0;34m\u001b[0m\u001b[0;34m\u001b[0m\u001b[0m\n\u001b[1;32m   1104\u001b[0m         \u001b[0mfull_backward_hooks\u001b[0m\u001b[0;34m,\u001b[0m \u001b[0mnon_full_backward_hooks\u001b[0m \u001b[0;34m=\u001b[0m \u001b[0;34m[\u001b[0m\u001b[0;34m]\u001b[0m\u001b[0;34m,\u001b[0m \u001b[0;34m[\u001b[0m\u001b[0;34m]\u001b[0m\u001b[0;34m\u001b[0m\u001b[0;34m\u001b[0m\u001b[0m\n",
      "\u001b[0;31mKeyboardInterrupt\u001b[0m: "
     ]
    }
   ],
   "source": [
    "model = SequenceEmbedder(4, 21, hidden_lstm_units=512, output_dim=100, bidirectional=True)\n",
    "#model._initialize_parameters()\n",
    "model.float()\n",
    "\n",
    "sequence_data = SequenceDataset(\"../../data/train_set_0.tsv\", lambda x: sequence_one_hot_encoder(aa2index, x))\n",
    "#dummy_dataloader = DataLoader(dummy_data, batch_size=None, batch_sampler=None)\n",
    "sequence_dataloader = DataLoader(sequence_data, batch_size=64, collate_fn=batchify)\n",
    "\n",
    "learning_rate = 0.001\n",
    "loss_fn = structural_similarity_loss\n",
    "\n",
    "optimizer = torch.optim.SGD(model.parameters(), lr=learning_rate)\n",
    "\n",
    "epochs = 10\n",
    "for t in range(epochs):\n",
    "    print(f\"Epoch {t+1}\\n-------------------------------\")\n",
    "    train_loop(sequence_dataloader, model, loss_fn, optimizer)\n",
    "    #test_loop(test_dataloader, model, loss_fn)\n",
    "print(\"Done!\")"
   ]
  },
  {
   "cell_type": "code",
   "execution_count": null,
   "id": "12c000fc",
   "metadata": {},
   "outputs": [],
   "source": []
  },
  {
   "cell_type": "code",
   "execution_count": null,
   "id": "1908220d",
   "metadata": {},
   "outputs": [],
   "source": []
  }
 ],
 "metadata": {
  "kernelspec": {
   "display_name": "Python 3 (ipykernel)",
   "language": "python",
   "name": "python3"
  },
  "language_info": {
   "codemirror_mode": {
    "name": "ipython",
    "version": 3
   },
   "file_extension": ".py",
   "mimetype": "text/x-python",
   "name": "python",
   "nbconvert_exporter": "python",
   "pygments_lexer": "ipython3",
   "version": "3.9.4"
  }
 },
 "nbformat": 4,
 "nbformat_minor": 5
}
